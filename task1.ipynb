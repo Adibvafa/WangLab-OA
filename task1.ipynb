{
 "cells": [
  {
   "cell_type": "code",
   "execution_count": 1,
   "metadata": {},
   "outputs": [],
   "source": [
    "import json\n",
    "from tqdm import tqdm\n",
    "from dotenv import load_dotenv\n",
    "from openai import OpenAI\n",
    "from pydantic import BaseModel\n",
    "\n",
    "load_dotenv()\n",
    "client = OpenAI()\n",
    "annotations = json.load(open(\"data/annotation_quiz_all.json\"))"
   ]
  },
  {
   "cell_type": "code",
   "execution_count": 2,
   "metadata": {},
   "outputs": [],
   "source": [
    "class RadiologyReport(BaseModel):\n",
    "    lung: str\n",
    "    heart: str\n",
    "    mediastinal: str\n",
    "    bone: str\n",
    "    others: str"
   ]
  },
  {
   "cell_type": "code",
   "execution_count": 3,
   "metadata": {},
   "outputs": [],
   "source": [
    "system_prompt = \"\"\"\n",
    "You are an expert at structured data extraction and medicine.\n",
    "You will be given unstructured findings of a x-ray radiology report and should separate the findings into four predefined anatomical regions: lung, heart, mediastinal, and bone.\n",
    "If you cannot assign the sentence to any anatomical region, put it in others.\n",
    "\"\"\".strip()"
   ]
  },
  {
   "cell_type": "code",
   "execution_count": 4,
   "metadata": {},
   "outputs": [
    {
     "name": "stderr",
     "output_type": "stream",
     "text": [
      "Processing: 100%|██████████| 296/296 [06:08<00:00,  1.24s/examples]\n"
     ]
    }
   ],
   "source": [
    "# Inference loop over all examples in the validation set\n",
    "for i, data in tqdm(\n",
    "    enumerate(annotations['val']),\n",
    "    total=len(annotations['val']),\n",
    "    desc='Processing',\n",
    "    unit='examples'\n",
    "    ):\n",
    "\n",
    "    # Parse the radiology report\n",
    "    completion = client.beta.chat.completions.parse(\n",
    "        model=\"gpt-4o-2024-08-06\",\n",
    "        messages=[\n",
    "            {\"role\": \"system\", \"content\": system_prompt},\n",
    "            {\"role\": \"user\", \"content\": data['original_report']},\n",
    "        ],\n",
    "        response_format=RadiologyReport,\n",
    "    )\n",
    "\n",
    "    # Save the parsed report\n",
    "    output = completion.choices[0].message.parsed\n",
    "    annotations['val'][i]['report'] = output.__dict__"
   ]
  },
  {
   "cell_type": "code",
   "execution_count": 5,
   "metadata": {},
   "outputs": [],
   "source": [
    "# Save annotations to disk\n",
    "json.dump(annotations, open(\"data/annotation_quiz_all_with_val.json\", \"w\"), indent=2)"
   ]
  },
  {
   "cell_type": "code",
   "execution_count": 6,
   "metadata": {},
   "outputs": [
    {
     "name": "stdout",
     "output_type": "stream",
     "text": [
      "The XXXX examination consists of frontal and lateral radiographs of the chest. There has been interval CABG. Surgical clips are again seen in the epigastric region. The cardiomediastinal contours are within normal limits. Pulmonary vascularity is within normal limits. No focal consolidation, pleural effusion, or pneumothorax identified. The visualized osseous structures are unremarkable. \n",
      "\n",
      "\n",
      "{'lung': 'Pulmonary vascularity is within normal limits. No focal consolidation, pleural effusion, or pneumothorax identified.', 'heart': 'There has been interval CABG. The cardiomediastinal contours are within normal limits.', 'mediastinal': 'The cardiomediastinal contours are within normal limits.', 'bone': 'The visualized osseous structures are unremarkable.', 'others': 'Surgical clips are again seen in the epigastric region.'}\n"
     ]
    }
   ],
   "source": [
    "# Sample view of the parsed reports\n",
    "index = 23\n",
    "print(annotations['val'][index]['original_report'], '\\n\\n')\n",
    "print(annotations['val'][index]['report'])"
   ]
  }
 ],
 "metadata": {
  "kernelspec": {
   "display_name": "light",
   "language": "python",
   "name": "python3"
  },
  "language_info": {
   "codemirror_mode": {
    "name": "ipython",
    "version": 3
   },
   "file_extension": ".py",
   "mimetype": "text/x-python",
   "name": "python",
   "nbconvert_exporter": "python",
   "pygments_lexer": "ipython3",
   "version": "3.12.2"
  }
 },
 "nbformat": 4,
 "nbformat_minor": 2
}
